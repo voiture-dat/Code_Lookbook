{
 "cells": [
  {
   "cell_type": "markdown",
   "metadata": {},
   "source": [
    "# Exercise #4: Probabilistic Modelling of COVID-19 Mortality\n",
    "\n",
    "### Probabilistic Machine Learning\n",
    "\n",
    "- **Lecturer**: Prof. Philipp Hennig\n",
    "- **Term**: SoSe 2020\n",
    "- **Due Date**: Tuesday, 18 May 2020 at 10am\n",
    "- Max Haberl (5407084)"
   ]
  },
  {
   "cell_type": "markdown",
   "metadata": {
    "pycharm": {
     "name": "#%% md\n"
    }
   },
   "source": [
    "\n",
    "\n",
    "\n",
    "## Exam type questions -Gaussian inference:\n",
    "\n",
    "a) Using the marginals of Gaussians are gaussian lemma:\n",
    "\\begin{align}\n",
    "p(y) &= \\int p(y|w) \\cdot p(w) dw = \\int \\mathcal{N} \\left[ \\begin{pmatrix} w\\\\\\ y \\end{pmatrix}; \\begin{pmatrix} \\mu \\\\\\ \\phi'w \\end{pmatrix}; \\begin{pmatrix} \\Sigma, - \\\\\\ - , \\Lambda \\end{pmatrix}\\right] dw \\\\\\\n",
    "&= p(y)  = \\mathcal{N}(y; \\phi'\\mu , \\Lambda + \\phi'\\Sigma\\phi)\n",
    "\\end{align}\n",
    "\n",
    "b) Posterior\n",
    "\\begin{align}\n",
    "p(w|y) = \\mathcal{N}(w; \\mu + \\Sigma\\phi(\\phi'\\Sigma\\phi + \\Lambda)^{-1}(y - \\phi'\\mu), \\Sigma - \\Sigma\\phi(\\phi'\\Sigma\\phi + \\Lambda)^{-1}\\phi'\\Sigma)\n",
    "\\end{align}\n",
    "\n",
    "## Theory Question\n",
    "a) First derivation\n",
    "\\begin{align}\n",
    "\\underset{w}{\\mathrm{argmin}} & -log(p(y|w)) \\\\ &= -log\\left( \\frac{1}{2 \\pi^{N/2}|\\Lambda|^{0.5}} \\right) + \\frac{1}{2}(y-\\phi'w)'\\Lambda^{-1}(y-\\phi'w)\n",
    "\\end{align}\n",
    "The latter term is all that needs to be considered for maximization (minimization respectively)\n",
    "Using [\"roweis - matrix id\"](https://cs.nyu.edu/~roweis/notes/matrixid.pdf) the derivation can be abbreviated to:\n",
    "- FOC:\n",
    "\\begin{align}\n",
    "\\frac{\\partial -log(p(y|w))}{\\partial w} &= \\phi'' (-\\phi'w +y)(\\Lambda^{-1}+\\Lambda^{-1}) \\overset{!}{=} 0 \\quad|(\\Lambda^{-1}+\\Lambda^{-1})^{-1} \\\\\n",
    "&=\\phi (y-\\phi'w) \\overset{!}{=} 0 \\\\\n",
    "& w = (\\phi\\phi')^{-1}\\phi w\n",
    "\\end{align}\n",
    "\n",
    "b)\n",
    "\n",
    "$\\begin{aligned} p(w | y) & \\propto p\\left(y | w, \\phi\\right) p(w)=p(w) \\cdot \\prod_{i=1}^{n} p\\left(y_{i} | w, \\phi_{i}\\right)=p(w) \\cdot \\prod_{i=1}^{n} \\mathcal{N}\\left(y_{i} ; \\phi_{i}^{\\top} w, \\sigma^{2}\\right) \\\\ \\underset{w}{\\arg \\max } p(w | y) &=\\underset{w}{\\arg \\min }-\\log p(w| y) \\\\ &=\\underset{w}{\\arg \\min }-\\log p(w)+\\frac{1}{2 \\sigma^{2}} \\sum_{i=1}^{n}\\left\\|y_{i}-\\phi_{i}^{{\\top}} w\\right\\|^{2}=\\underset{w}{\\arg \\min } r(w)+\\underbrace{\\sum_{i=1}^{n} \\ell_{2}\\left(y_{i} ; w\\right)}_{\\mathcal{L}( w)} \\end{aligned}$\n",
    "\n",
    "\n",
    "\\begin{aligned}\n",
    "\\underset{w}{\\mathrm{argmin}} & \\left[ w - \\left[ \\mu + \\Sigma \\phi(\\phi'\\Sigma\\phi + \\Lambda)^{-1}(y - \\phi'\\mu) \\right] \\right]' \\\\\n",
    "& \\left[ \\Sigma - \\Sigma\\phi(\\phi'\\Sigma\\phi + \\Lambda)^{-1}\\phi'\\Sigma \\right]^{-1} \\cdot \\left[ w - \\left[ \\mu + \\Sigma \\phi(\\phi'\\Sigma\\phi + \\Lambda)^{-1}(y - \\phi'\\mu) \\right] \\right] \\\\\n",
    "&= \\mathcal{L}(w) = ( ... ) + 0.5 (w - b)' C(w - b)\n",
    "\\end{aligned}\n",
    "\n",
    "FOC, again using [\"roweis - matrix id\"](https://cs.nyu.edu/~roweis/notes/matrixid.pdf) :\n",
    "\\begin{aligned}\n",
    "\\frac{\\partial \\mathcal{L}(w)}{\\partial w} =& 0.5 (C +C')(wI -b)I \\overset{!}{=} 0 \\\\\n",
    "&w = b = \\mu + \\Sigma\\phi(\\phi'\\Sigma\\phi + \\Lambda)^{-1}(y - \\phi'\\mu) = E(w|y)\n",
    "\\end{aligned}\n",
    "\n",
    "Using $\\mu = 0, \\Sigma = I_{F}, \\Lambda = \\sigma^2I$, yields:\n",
    "\n",
    "\\begin{aligned}\n",
    "w &= 0 + I_F \\phi'(\\phi' I_F \\phi + \\sigma^2 I)^{-1}(y - \\phi'\\mu) \\\\\n",
    "&= (\\phi'\\phi + \\sigma^2 I_F)^{-1} \\phi' y\n",
    "\\end{aligned}\n",
    "\n",
    "Which is the Tikhanov regularization with $A = \\phi$ and $ \\Gamma = \\sigma I$\n"
   ]
  },
  {
   "cell_type": "markdown",
   "metadata": {},
   "source": [
    "## COVID-19 Time-Series Data\n",
    "\n",
    "**Task:** Download the number of confirmed infections and deaths by COVID-19 per million people from the following links:\n",
    "- https://ourworldindata.org/grapher/total-confirmed-cases-of-covid-19-per-million-people\n",
    "- https://ourworldindata.org/grapher/total-covid-deaths-per-million\n",
    "\n",
    "Load the data from file and retrieve the infection and mortality statistics for the following countries\n",
    "- Germany\n",
    "- Italy\n",
    "- France\n",
    "- Great Britain\n",
    "- Spain\n",
    "- China\n",
    "- USA\n",
    "\n",
    "for further analysis."
   ]
  },
  {
   "cell_type": "code",
   "execution_count": 1,
   "metadata": {
    "pycharm": {
     "is_executing": false
    }
   },
   "outputs": [
    {
     "data": {
      "text/html": [
       "<div>\n",
       "<style scoped>\n",
       "    .dataframe tbody tr th:only-of-type {\n",
       "        vertical-align: middle;\n",
       "    }\n",
       "\n",
       "    .dataframe tbody tr th {\n",
       "        vertical-align: top;\n",
       "    }\n",
       "\n",
       "    .dataframe thead th {\n",
       "        text-align: right;\n",
       "    }\n",
       "</style>\n",
       "<table border=\"1\" class=\"dataframe\">\n",
       "  <thead>\n",
       "    <tr style=\"text-align: right;\">\n",
       "      <th>date</th>\n",
       "      <th>60</th>\n",
       "      <th>61</th>\n",
       "      <th>62</th>\n",
       "      <th>63</th>\n",
       "      <th>64</th>\n",
       "      <th>65</th>\n",
       "      <th>66</th>\n",
       "      <th>67</th>\n",
       "      <th>68</th>\n",
       "      <th>69</th>\n",
       "      <th>...</th>\n",
       "      <th>112</th>\n",
       "      <th>113</th>\n",
       "      <th>114</th>\n",
       "      <th>115</th>\n",
       "      <th>116</th>\n",
       "      <th>117</th>\n",
       "      <th>118</th>\n",
       "      <th>119</th>\n",
       "      <th>120</th>\n",
       "      <th>121</th>\n",
       "    </tr>\n",
       "    <tr>\n",
       "      <th>country</th>\n",
       "      <th></th>\n",
       "      <th></th>\n",
       "      <th></th>\n",
       "      <th></th>\n",
       "      <th></th>\n",
       "      <th></th>\n",
       "      <th></th>\n",
       "      <th></th>\n",
       "      <th></th>\n",
       "      <th></th>\n",
       "      <th></th>\n",
       "      <th></th>\n",
       "      <th></th>\n",
       "      <th></th>\n",
       "      <th></th>\n",
       "      <th></th>\n",
       "      <th></th>\n",
       "      <th></th>\n",
       "      <th></th>\n",
       "      <th></th>\n",
       "      <th></th>\n",
       "    </tr>\n",
       "  </thead>\n",
       "  <tbody>\n",
       "    <tr>\n",
       "      <th>China</th>\n",
       "      <td>55.133530</td>\n",
       "      <td>55.532328</td>\n",
       "      <td>55.674756</td>\n",
       "      <td>55.762992</td>\n",
       "      <td>55.845670</td>\n",
       "      <td>55.926958</td>\n",
       "      <td>56.045069</td>\n",
       "      <td>56.115241</td>\n",
       "      <td>56.147200</td>\n",
       "      <td>56.178465</td>\n",
       "      <td>...</td>\n",
       "      <td>58.255829</td>\n",
       "      <td>58.266251</td>\n",
       "      <td>58.274588</td>\n",
       "      <td>58.280146</td>\n",
       "      <td>58.290568</td>\n",
       "      <td>58.297515</td>\n",
       "      <td>58.299600</td>\n",
       "      <td>58.317664</td>\n",
       "      <td>58.319053</td>\n",
       "      <td>58.321832</td>\n",
       "    </tr>\n",
       "    <tr>\n",
       "      <th>France</th>\n",
       "      <td>0.873249</td>\n",
       "      <td>1.532015</td>\n",
       "      <td>1.991620</td>\n",
       "      <td>2.726987</td>\n",
       "      <td>3.247872</td>\n",
       "      <td>4.366243</td>\n",
       "      <td>6.480423</td>\n",
       "      <td>9.391252</td>\n",
       "      <td>10.969227</td>\n",
       "      <td>17.250489</td>\n",
       "      <td>...</td>\n",
       "      <td>1756.562448</td>\n",
       "      <td>1797.421288</td>\n",
       "      <td>1825.411202</td>\n",
       "      <td>1850.735410</td>\n",
       "      <td>1877.898036</td>\n",
       "      <td>1901.445107</td>\n",
       "      <td>1908.507696</td>\n",
       "      <td>1926.815275</td>\n",
       "      <td>1943.131235</td>\n",
       "      <td>1967.750716</td>\n",
       "    </tr>\n",
       "    <tr>\n",
       "      <th>Germany</th>\n",
       "      <td>0.680321</td>\n",
       "      <td>1.324836</td>\n",
       "      <td>1.539674</td>\n",
       "      <td>1.873867</td>\n",
       "      <td>2.339350</td>\n",
       "      <td>3.127091</td>\n",
       "      <td>4.774184</td>\n",
       "      <td>8.163855</td>\n",
       "      <td>10.109335</td>\n",
       "      <td>10.765786</td>\n",
       "      <td>...</td>\n",
       "      <td>1712.225415</td>\n",
       "      <td>1738.925041</td>\n",
       "      <td>1766.997245</td>\n",
       "      <td>1794.890417</td>\n",
       "      <td>1819.417789</td>\n",
       "      <td>1840.149685</td>\n",
       "      <td>1852.299984</td>\n",
       "      <td>1865.954151</td>\n",
       "      <td>1881.517992</td>\n",
       "      <td>1899.158604</td>\n",
       "    </tr>\n",
       "    <tr>\n",
       "      <th>Italy</th>\n",
       "      <td>14.686953</td>\n",
       "      <td>18.656399</td>\n",
       "      <td>27.934981</td>\n",
       "      <td>33.674139</td>\n",
       "      <td>41.381481</td>\n",
       "      <td>51.090086</td>\n",
       "      <td>63.808855</td>\n",
       "      <td>76.676478</td>\n",
       "      <td>97.301061</td>\n",
       "      <td>121.977787</td>\n",
       "      <td>...</td>\n",
       "      <td>2997.395315</td>\n",
       "      <td>3042.531231</td>\n",
       "      <td>3098.268878</td>\n",
       "      <td>3142.032027</td>\n",
       "      <td>3191.997437</td>\n",
       "      <td>3230.980711</td>\n",
       "      <td>3269.418186</td>\n",
       "      <td>3298.180134</td>\n",
       "      <td>3332.763938</td>\n",
       "      <td>3367.265045</td>\n",
       "    </tr>\n",
       "    <tr>\n",
       "      <th>Spain</th>\n",
       "      <td>0.727198</td>\n",
       "      <td>1.411620</td>\n",
       "      <td>1.775219</td>\n",
       "      <td>2.438253</td>\n",
       "      <td>3.229616</td>\n",
       "      <td>4.277637</td>\n",
       "      <td>5.582317</td>\n",
       "      <td>7.999182</td>\n",
       "      <td>9.196920</td>\n",
       "      <td>12.597642</td>\n",
       "      <td>...</td>\n",
       "      <td>4160.323020</td>\n",
       "      <td>4216.509785</td>\n",
       "      <td>4281.786529</td>\n",
       "      <td>4340.967640</td>\n",
       "      <td>4403.934459</td>\n",
       "      <td>4440.914633</td>\n",
       "      <td>4480.076402</td>\n",
       "      <td>4508.052149</td>\n",
       "      <td>4553.908420</td>\n",
       "      <td>0.000000</td>\n",
       "    </tr>\n",
       "    <tr>\n",
       "      <th>United Kingdom</th>\n",
       "      <td>0.265150</td>\n",
       "      <td>0.338803</td>\n",
       "      <td>0.530301</td>\n",
       "      <td>0.589223</td>\n",
       "      <td>0.751259</td>\n",
       "      <td>1.252099</td>\n",
       "      <td>1.694016</td>\n",
       "      <td>2.401084</td>\n",
       "      <td>3.034499</td>\n",
       "      <td>4.021447</td>\n",
       "      <td>...</td>\n",
       "      <td>1837.536350</td>\n",
       "      <td>1900.892561</td>\n",
       "      <td>1966.458359</td>\n",
       "      <td>2033.968592</td>\n",
       "      <td>2113.307479</td>\n",
       "      <td>2185.678804</td>\n",
       "      <td>2251.421368</td>\n",
       "      <td>2314.895424</td>\n",
       "      <td>2373.758809</td>\n",
       "      <td>2433.800640</td>\n",
       "    </tr>\n",
       "    <tr>\n",
       "      <th>United States</th>\n",
       "      <td>0.199394</td>\n",
       "      <td>0.208458</td>\n",
       "      <td>0.268880</td>\n",
       "      <td>0.311176</td>\n",
       "      <td>0.377640</td>\n",
       "      <td>0.480359</td>\n",
       "      <td>0.703922</td>\n",
       "      <td>1.021140</td>\n",
       "      <td>1.308147</td>\n",
       "      <td>1.673703</td>\n",
       "      <td>...</td>\n",
       "      <td>2379.896376</td>\n",
       "      <td>2492.551064</td>\n",
       "      <td>2545.686591</td>\n",
       "      <td>2625.876282</td>\n",
       "      <td>2690.383319</td>\n",
       "      <td>2836.995439</td>\n",
       "      <td>2918.133763</td>\n",
       "      <td>2986.232917</td>\n",
       "      <td>3059.138678</td>\n",
       "      <td>3141.693909</td>\n",
       "    </tr>\n",
       "  </tbody>\n",
       "</table>\n",
       "<p>7 rows × 62 columns</p>\n",
       "</div>"
      ],
      "text/plain": [
       "date                  60         61         62         63         64   \\\n",
       "country                                                                 \n",
       "China           55.133530  55.532328  55.674756  55.762992  55.845670   \n",
       "France           0.873249   1.532015   1.991620   2.726987   3.247872   \n",
       "Germany          0.680321   1.324836   1.539674   1.873867   2.339350   \n",
       "Italy           14.686953  18.656399  27.934981  33.674139  41.381481   \n",
       "Spain            0.727198   1.411620   1.775219   2.438253   3.229616   \n",
       "United Kingdom   0.265150   0.338803   0.530301   0.589223   0.751259   \n",
       "United States    0.199394   0.208458   0.268880   0.311176   0.377640   \n",
       "\n",
       "date                  65         66         67         68          69   ...  \\\n",
       "country                                                                 ...   \n",
       "China           55.926958  56.045069  56.115241  56.147200   56.178465  ...   \n",
       "France           4.366243   6.480423   9.391252  10.969227   17.250489  ...   \n",
       "Germany          3.127091   4.774184   8.163855  10.109335   10.765786  ...   \n",
       "Italy           51.090086  63.808855  76.676478  97.301061  121.977787  ...   \n",
       "Spain            4.277637   5.582317   7.999182   9.196920   12.597642  ...   \n",
       "United Kingdom   1.252099   1.694016   2.401084   3.034499    4.021447  ...   \n",
       "United States    0.480359   0.703922   1.021140   1.308147    1.673703  ...   \n",
       "\n",
       "date                    112          113          114          115  \\\n",
       "country                                                              \n",
       "China             58.255829    58.266251    58.274588    58.280146   \n",
       "France          1756.562448  1797.421288  1825.411202  1850.735410   \n",
       "Germany         1712.225415  1738.925041  1766.997245  1794.890417   \n",
       "Italy           2997.395315  3042.531231  3098.268878  3142.032027   \n",
       "Spain           4160.323020  4216.509785  4281.786529  4340.967640   \n",
       "United Kingdom  1837.536350  1900.892561  1966.458359  2033.968592   \n",
       "United States   2379.896376  2492.551064  2545.686591  2625.876282   \n",
       "\n",
       "date                    116          117          118          119  \\\n",
       "country                                                              \n",
       "China             58.290568    58.297515    58.299600    58.317664   \n",
       "France          1877.898036  1901.445107  1908.507696  1926.815275   \n",
       "Germany         1819.417789  1840.149685  1852.299984  1865.954151   \n",
       "Italy           3191.997437  3230.980711  3269.418186  3298.180134   \n",
       "Spain           4403.934459  4440.914633  4480.076402  4508.052149   \n",
       "United Kingdom  2113.307479  2185.678804  2251.421368  2314.895424   \n",
       "United States   2690.383319  2836.995439  2918.133763  2986.232917   \n",
       "\n",
       "date                    120          121  \n",
       "country                                   \n",
       "China             58.319053    58.321832  \n",
       "France          1943.131235  1967.750716  \n",
       "Germany         1881.517992  1899.158604  \n",
       "Italy           3332.763938  3367.265045  \n",
       "Spain           4553.908420     0.000000  \n",
       "United Kingdom  2373.758809  2433.800640  \n",
       "United States   3059.138678  3141.693909  \n",
       "\n",
       "[7 rows x 62 columns]"
      ]
     },
     "metadata": {},
     "output_type": "display_data"
    }
   ],
   "source": [
    "import numpy as np\n",
    "import pandas as pd\n",
    "from datetime import datetime\n",
    "\n",
    "# Load data from file\n",
    "infections_df = pd.read_csv(\"data/total-confirmed-cases-of-covid-19-per-million-people.csv\")\n",
    "deaths_df = pd.read_csv(\"data/total-covid-deaths-per-million.csv\")\n",
    "\n",
    "# Filter data for given countries\n",
    "country_codes = [\"DEU\", \"ITA\", \"FRA\", \"GBR\", \"ESP\", \"CHN\", \"USA\"]\n",
    "infections_df = infections_df.loc[infections_df[\"Code\"].isin(country_codes)]\n",
    "infections_df.columns = [\"country\", \"code\", \"date\", \"infections per million\"]\n",
    "deaths_df = deaths_df.loc[deaths_df[\"Code\"].isin(country_codes)]\n",
    "deaths_df.columns = [\"country\", \"code\", \"date\", \"deaths per million\"]\n",
    "\n",
    "# Convert dates to integer starting Dec 31, 2019\n",
    "def daysfromdate(datestring, startdate=\"Dec 31, 2019\"):\n",
    "    \"\"\"Return number of days from ``startdate`` given a date.\"\"\"\n",
    "    dayzero = datetime.strptime(startdate, '%b %d, %Y')\n",
    "    dt = datetime.strptime(datestring, '%b %d, %Y')\n",
    "    return (dt - dayzero).days\n",
    "\n",
    "infections_df['date'] = infections_df['date'].apply(daysfromdate)\n",
    "deaths_df['date'] = deaths_df['date'].apply(daysfromdate)\n",
    "\n",
    "# Select data from February onward\n",
    "day0 = 31\n",
    "infections_df = infections_df.loc[infections_df[\"date\"] > day0]\n",
    "deaths_df = deaths_df.loc[deaths_df[\"date\"] > day0]\n",
    "\n",
    "# Pivot to long format\n",
    "infections_df = infections_df.pivot(index=\"country\", columns=\"date\", values=\"infections per million\")\n",
    "deaths_df = deaths_df.pivot(index=\"country\", columns=\"date\", values=\"deaths per million\")\n",
    "\n",
    "# Fill NaNs with zeros\n",
    "infections_df.fillna(value=0, inplace=True)\n",
    "deaths_df.fillna(value=0, inplace=True)\n",
    "\n",
    "# Display tables\n",
    "# display(infections_df)\n",
    "display(infections_df.loc[:, 60:])\n",
    "\n",
    "# Store each timeseries in the row of a numpy array\n",
    "infections_permil = infections_df.to_numpy()\n",
    "deaths_permil = deaths_df.to_numpy()"
   ]
  },
  {
   "cell_type": "markdown",
   "metadata": {},
   "source": [
    "## Probabilistic Model of Mortality\n",
    "\n",
    "We build a simple probabilistic model for the number of infections and the mortality rate for COVID-19. Let \n",
    "$X_{ct} \\in \\mathbb{N}$ denote the latent number of *infected patients* per million people per country $c$ and time point $t$, $Y_{ct}  \\in \\mathbb{N}$ the number of *observed infections* per million people, $V_{ct}  \\in \\mathbb{N}$ the number of observed *fatalities* caused by COVID-19 per million, $\\tau_c \\in [0,1]$ the *testing rate* of infected patients for disease per country and $\\rho \\in [0,1]$ the *mortality rate* assumed to be constant across time and countries. The following probabilistic graphical model illustrates our setup.\n",
    "![Probabilistic Graphical Model](figures/graphical_model.png)"
   ]
  },
  {
   "cell_type": "markdown",
   "metadata": {},
   "source": [
    "**Task:** Making use of the (conditional) independence assumptions encoded in the model, derive the Markov blanket of each of the variables $X_{ct}$, $Y_{ct}$, $V_{ct}$, $\\rho$ and $\\tau_c$.\n",
    "\n",
    "_Hint:_ The Markov blanket of a node is the minimal set of nodes in a graph when conditioned upon imply (conditional) independence of all other nodes in the graph, i.e. $\\forall B \\in V: \\ P(A \\mid \\text{MB}(A), B) = P(A \\mid \\text{MB}(A))$"
   ]
  },
  {
   "cell_type": "markdown",
   "metadata": {},
   "source": [
    "The Markov Blankets in terms of their probabilities are given by \n",
    "\n",
    "$P(Y_{ct}|X_{ct}, \\tau_c)$\n",
    "\n",
    "$P(V_{ct}|X_{ct}, \\rho)$\n",
    "\n",
    "$P(\\rho|X_{ct}, V_{ct})$\n",
    "\n",
    "$P(X_{ct} \\mid Y_{ct}, V_{ct}, \\rho, \\tau_c) $\n",
    "\n",
    "$P(\\tau|X_{ct}, Y_{ct})$\n",
    "\n",
    "Following the definition of a Markov blanket, which states that any variable A conditioned on its Markov Blanket is\n",
    "independent of all variables other than those comprised by the blanket:\n",
    "\n",
    "- $MB(X_{ct}) = all$\n",
    "- $MB(Y_{ct}) = \\tau_c,X_{ct}$\n",
    "- $MB(V_{ct}) = X_{ct},\\rho$\n",
    "- $MB(\\rho) = X_{ct},V_{ct}$\n",
    "- $MB(\\tau_c) = Y_{ct},X_{ct}$"
   ]
  },
  {
   "cell_type": "markdown",
   "metadata": {},
   "source": [
    "We make the following assumptions in our probabilistic model. We observe the total number of tests performed and deaths occurred per day.\n",
    "- $Y_{ct} = y_{ct}$\n",
    "- $V_{ct} = v_{ct}$\n",
    "\n",
    "We assume that our observations are corrupted by Gaussian noise given the latent number of infections, the mortality and the testing rate, respectively.\n",
    "- $Y_{ct} \\mid X_{ct}, \\tau_c \\sim \\mathcal{N}(\\tau_c X_{ct}, \\sigma_y^2)$\n",
    "- $V_{ct} \\mid X_{ct}, \\rho \\sim \\mathcal{N}(\\rho X_{ct}, \\sigma_v^2)$\n",
    "\n",
    "where $\\sigma_y^2 = 10^{-2}$ and $\\sigma_v^2 = 10^{-4}$.\n",
    "\n",
    "**Task:** What is the underlying assumed relationship between the observed infections $Y_{ct}$ and the observed deaths $V_{ct}$, if the observation noise collapses to zero for $\\sigma_y^2 \\rightarrow 0$ and $\\sigma_v^2 \\rightarrow 0$?\n",
    "\n",
    "Using the results for our DAG's Markov Blanket: $V_{ct}$ & $Y_{ct}$ become independent of each other when\n",
    "conditioned on their respective blanket. In addition one can use the properties of gaussian products, which yields\n",
    "the following proportionality relation  when accounting for the postulated limits of the variances:\n",
    "\n",
    "\\begin{align}\n",
    "p(Y_{ct},V_{ct}|MB(Y_{ct}),MB(V_{ct})) &= p(V_{ct}|X_{ct},\\rho) \\cdot p(Y_{ct}|X_{ct},\\tau_c) \\\\\n",
    "&=\\mathcal{N}(\\tau_c X_{ct},\\sigma_y^2) \\cdot \\mathcal{N}(\\rho X_{ct},\\sigma_v^2) \\\\\n",
    "&\\propto \\mathcal{N}(\\tau_c X_{ct} + \\rho X_{ct} , 0)\n",
    "\\end{align}\n"
   ]
  },
  {
   "cell_type": "markdown",
   "metadata": {},
   "source": [
    "We assume a direct causal relation between the observed infections and the observed death. The noise collapses to zero if increasing\n",
    "the sampling size. However, we also assume all other factors to be exogenous, including the track record of the patients which could have\n",
    "suffered from illnesses before. (However, this is a *_very strong_* assumptions we have to make to draw the causal relationship). \n"
   ]
  },
  {
   "cell_type": "markdown",
   "metadata": {},
   "source": [
    "We model the latent mortality rate as a Beta distribution depending on the latent number of cases and the observed fatalities. Assume the following parameterization\n",
    "- $\\rho \\sim \\text{Beta}\\left(\\sum_c V_{ct} + M_\\rho \\mu_\\rho, \\sum_c X_{ct} - \\sum_c V_{ct} + M_\\rho(1-\\mu_\\rho) \\right)$,\n",
    "\n",
    "where $\\mu_\\rho=0.05$ is the prior belief about the mortality before observing any data. This choice is motivated by the mortality of the flu (0.001) and SARS (0.1). The hyperparameter $M_\\rho=1$ controls the strength of our prior belief about the mortality.\n",
    "\n",
    "We put a Gaussian prior on the number of latent infections with a constant prior mean function $(\\mu_x)_t = 10$ and variance $\\sigma_x^2 = 0.1(\\mu_x)_t$. modelling our belief over the progress of the disease before observing any actual cases.\n",
    "- $X_{ct} \\sim \\mathcal{N}((\\mu_x)_t, \\sigma_x^2)$\n",
    "\n",
    "Assuming we are given the observed infections and deaths, the testing and mortality rate, the current number of fatalities at time $t$, then the posterior over the latent number of infections according to our observational model is given by\n",
    "- $X_{ct} \\mid Y_{ct}, V_{ct}, \\rho, \\tau_c \\sim \\mathcal{N}(\\mu_{ct}, \\sigma_c^2)$,\n",
    "\n",
    "where $\\mu_{ct} = \\big(\\frac{\\tau_c y_{ct}}{\\sigma_y^2} +\\frac{\\rho v_{ct}}{\\sigma_v^2} + \\frac{(\\mu_x)_t}{\\sigma_x^2} \\big)\\sigma^{2}$ and $\\sigma^2_{ct} =\\big(\\frac{\\tau_c^2}{\\sigma_y^2} +\\frac{\\rho^2}{\\sigma_v^2} + \\frac{1}{\\sigma_x^2} \\big)^{-1}$."
   ]
  },
  {
   "cell_type": "code",
   "execution_count": 1,
   "metadata": {
    "pycharm": {
     "is_executing": false,
     "name": "#%%\n"
    }
   },
   "outputs": [],
   "source": []
  },
  {
   "cell_type": "markdown",
   "metadata": {},
   "source": [
    "This can be derived as follows:\n",
    "\\begin{align}\n",
    "p(X_{ct} \\mid Y_{ct}, V_{ct}, \\rho, \\tau_c) &\\propto p(X_{ct}, Y_{ct}, V_{ct} \\mid \\rho, \\tau_c) = p(Y_{ct} \\mid X_{ct}, \\tau_c)p(V_{ct} \\mid X_{ct}, \\rho) p(X_{ct})\\\\\n",
    "&=\\mathcal{N}(Y_{ct}; \\tau_c X_{ct}, \\sigma_y^2)\\mathcal{N}(V_{ct}; \\rho X_{ct}, \\sigma_v^2)\\mathcal{N}(X_{ct}; (\\mu_x)_t, \\sigma_x^2)\\\\\n",
    "&\\propto \\exp \\bigg[ -\\frac{1}{2} \\Big(\\big(\\frac{\\tau_c^2}{\\sigma_y^2} +\\frac{\\rho^2}{\\sigma_v^2} + \\frac{1}{\\sigma_x^2} \\big)x_{ct}^2 - 2 \\big(\\frac{\\tau_c y_{ct}}{\\sigma_y^2} +\\frac{\\rho v_{ct}}{\\sigma_v^2} + \\frac{(\\mu_x)_t}{\\sigma_x^2} \\big)x_{ct} \\Big)\\bigg]\\\\\n",
    "&\\propto \\mathcal{N}(\\mu_{ct}, \\sigma_{ct}^2)\n",
    "\\end{align}  \n",
    "    "
   ]
  },
  {
   "cell_type": "markdown",
   "metadata": {},
   "source": [
    "Finally, we estimate the per country testing rates also using a Beta distribution as above where the observations are given by the latent number of infections and the observed number of infections, like so\n",
    "- $\\tau_c \\sim \\text{Beta}\\left(Y_{ct} + M_\\tau \\mu_\\tau, X_{ct} - Y_{ct} + M_c(1-\\mu_\\tau) \\right)$\n",
    "\n",
    "where analoguously $\\mu_\\tau=0.1$ represents the prior belief about the testing rate, which we a priori assume to be the same across countries and $M_\\tau=1$ controls the prior influence. Clearly, this assumption is very restrictive as it assumes that the testing rate is constant over time and we do not actually incorporate any data about how many people are tested relative to the entire population in our model. However we can hope to extract some information from the difference in testing rate across countries."
   ]
  },
  {
   "cell_type": "code",
   "execution_count": 1,
   "metadata": {
    "pycharm": {
     "is_executing": false,
     "name": "#%%\n"
    }
   },
   "outputs": [],
   "source": []
  },
  {
   "cell_type": "markdown",
   "metadata": {
    "pycharm": {
     "name": "#%% md\n"
    }
   },
   "source": [
    "**Task:** Compute the expectation $\\mathbb{E}[\\rho]$ at a given time $t$. How does it behave for a large numbers of cases (and therefore fatalities)?"
   ]
  },
  {
   "cell_type": "markdown",
   "metadata": {},
   "source": [
    "Using the definition of a Beta's mean: $E(X) = \\frac{\\alpha}{\\alpha + \\beta}$\n",
    "\n",
    "\\begin{align}\n",
    "\\mathbb{E}(\\rho) &= \\frac{\\sum_c V_{ct} + M_\\rho \\mu_\\rho}{(\\sum_c V_{ct} + M_\\rho \\mu_\\rho) + (\\sum_c X_{ct} - \\sum_c V_{ct} + M_\\rho(1-\\mu_\\rho))} \\\\\n",
    "&= \\frac{\\sum_c V_{ct} + 0.05}{\\sum_c V_{ct} + 0.05 + \\sum_c X_{ct} - \\sum_c V_{ct} + 0.95}\n",
    "\\end{align}\n",
    "\n",
    "\n",
    "\n",
    "One immediately recognizes that the mortality rate is highly dependent on the tacit value of the random variable for\n",
    "truly infected patients. As it enters positively in the denominator, time $t$ mean for $\\rho$ will be small (c.p.) for\n",
    "higher dark figures and vice versa."
   ]
  },
  {
   "cell_type": "code",
   "execution_count": 2,
   "metadata": {
    "pycharm": {
     "is_executing": false,
     "name": "#%%\n"
    }
   },
   "outputs": [
    {
     "name": "stdout",
     "output_type": "stream",
     "text": [
      "date\n",
      "32     0.240706\n",
      "33     0.139742\n",
      "34     0.100290\n",
      "35     0.078171\n",
      "36     0.063159\n",
      "         ...   \n",
      "117    0.109758\n",
      "118    0.109385\n",
      "119    0.110152\n",
      "120    0.110859\n",
      "121    0.114611\n",
      "Length: 90, dtype: float64\n"
     ]
    }
   ],
   "source": [
    "e_rho= ((deaths_df + 0.05).sum(axis = 0))/((deaths_df + 0.05).sum(axis = 0) + infections_df.sum(axis =0) - (deaths_df + 0.95).sum(axis = 0))\n",
    "print(e_rho.T)"
   ]
  },
  {
   "cell_type": "markdown",
   "metadata": {},
   "source": [
    "### Inference via Markov-Chain Monte-Carlo\n",
    "\n",
    "We will now derive an inference procedure for our model based on the observed data. We will implement a Gibbs sampler, a form of Markov-Chain Monte-Carlo. To do so we need to be able to sample from the conditional distributions of every variable given all others.\n",
    "\n",
    "**Task:** Based on the derived Markov blankets and model assumptions state the conditional distributions (and observed variables) needed to perform one iteration of the Gibbs sampler.\n",
    "\n",
    "_Hint:_ If you had trouble deriving the Markov blankets, you can also read of conditional independence assumptions directly from the model description."
   ]
  },
  {
   "cell_type": "markdown",
   "metadata": {},
   "source": [
    "$P(Y_{ct}|X_{ct}, \\tau_c) = \\mathcal{N}\\left(Y_{ct} ; w_{1} X_{ct}+w_{3} \\tau_{c}+\\mu_{y}, \\sigma_{y}^{2}\\right) $\n",
    "\n",
    "$P(V_{ct}|X_{ct}, \\rho) = \\mathcal{N}\\left(V_{ct} ; w_{1} X_{ct}+w_{3} \\rho+\\mu_{v}, \\sigma_{v}^{2}\\right)$\n",
    "\n",
    "$P(\\rho|X_{ct}, V_{ct}) = \\mathcal{N}\\left(Y_{ct} ; w_{1} X_{ct}+w_{3} \\tau_{c}+\\mu_{y}, \\sigma_{y}^{2}\\right) $\n",
    "\n",
    "$P(\\tau_{c}|X_{ct}, Y_{ct}) = \\mathcal{N}\\left(V_{ct} ; w_{1} X_{ct}+w_{3} \\rho+\\mu_{v}, \\sigma_{v}^{2}\\right)$\n",
    "\n",
    "$P(X_{ct} \\mid Y_{ct}, V_{ct}, \\rho, \\tau_c) = \\mathcal{N}(\\mu_{ct}, \\sigma_c^2)$,\n"
   ]
  },
  {
   "cell_type": "markdown",
   "metadata": {},
   "source": [
    "**Task:** Implement a Gibbs sampler to estimate the joint distribution of the latent variables given the observed number of infections and fatal cases over time."
   ]
  },
  {
   "cell_type": "code",
   "execution_count": 3,
   "metadata": {
    "pycharm": {
     "is_executing": false
    }
   },
   "outputs": [
    {
     "data": {
      "text/plain": [
       "7"
      ]
     },
     "execution_count": 3,
     "metadata": {},
     "output_type": "execute_result"
    }
   ],
   "source": [
    "len(infections_permil)"
   ]
  },
  {
   "cell_type": "code",
   "execution_count": 4,
   "metadata": {
    "pycharm": {
     "is_executing": false,
     "name": "#%%\n"
    }
   },
   "outputs": [],
   "source": [
    "import numpy as np\n",
    "\n",
    "def tao_func(y, mu, x):\n",
    "    alpha = y + mu\n",
    "    beta = x- y + 1-mu\n",
    "    return np.random.beta(alpha, beta, len(y))\n",
    "\n",
    "def rho_func(v, x, mu):\n",
    "    #if len(v) == 7:\n",
    "    alpha = np.sum(v +mu, axis =0) \n",
    "    beta = np.sum(x, axis = 0) - np.sum(v + (1-mu), axis = 0)\n",
    "    #else:\n",
    "    #alpha = v +mu \n",
    "    #beta = x - v + (1-mu)\n",
    "    return np.random.beta(alpha, beta)\n",
    "\n",
    "def sample_x(y,v, rho, tao):\n",
    "    mean = (((tao*y)/10**-2)+(rho*v)/10**-4+10/1)\n",
    "    variance = np.sqrt((1/((tao**2)/10**-2+(rho**2)/10**-4+1)))\n",
    "    return np.random.normal(mean,variance)\n",
    "\n",
    "def sample_y(tau, x, sigma_y = 0.01):\n",
    "    N = len(x)\n",
    "    assert len(tau) == N\n",
    "    variance = sigma_y\n",
    "    mu = tau * x\n",
    "    return np.random.normal(mu, variance)\n",
    "\n",
    "\n",
    "def sample_v(rho, x, sigma_v = 0.0001):\n",
    "    N = len(x)\n",
    "    assert len(rho) == N\n",
    "    variance = sigma_v\n",
    "    mu = rho * x\n",
    "    return np.random.normal(mu, variance)\n",
    "\n",
    "def gibbs(y, v, burnin=50, samples=10000):\n",
    "    \"\"\"\n",
    "    Gibbs sampler to infer parameters of the COVID-19 mortality model.\n",
    "    \n",
    "    Parameters\n",
    "    ----------\n",
    "    y : ndarray\n",
    "        Observed infections.\n",
    "    v : ndarray\n",
    "        Observed fatalities.\n",
    "    burnin : int\n",
    "        Number of burn-in samples.\n",
    "    samples : int\n",
    "        Number of samples to draw.\n",
    "    \"\"\"\n",
    "    # Setup\n",
    "    \n",
    "    start_mut = 0.1\n",
    "    start_mu_rho = 0.05\n",
    "    \n",
    "    # Initialize Gibbs sampler (by sampling from priors if necessary) \n",
    "    x_ini = np.random.normal(10, 0.1, y.shape)\n",
    "    ini_tao = tao_func(v, start_mut, y)\n",
    "    ini_rho = rho_func(v, y, start_mu_rho)\n",
    "    \n",
    "    # Memory to store the vars in\n",
    "    tao_p = np.zeros((1, samples), dtype='object'); tao_p[0][0] = ini_tao\n",
    "    rho_p = np.zeros((1, samples), dtype='object'); rho_p[0][0] = ini_rho\n",
    "    mat = np.zeros((2, samples), dtype = 'object')\n",
    "    \n",
    "    # Sample from conditional distributions\n",
    "    for i in range(samples-1):\n",
    "        # Sampling X with different values for rho and tao\n",
    "        mat[0][i] = sample_x(y,v, rho_p[0][i], tao_p[0][i])\n",
    "        # sampling the mortality rate with different values for Xt\n",
    "        mat[1][i] = rho_func(v, mat[0][i], start_mu_rho)\n",
    "        rho_p[0][i+1] = mat[1][i]\n",
    "        try:\n",
    "            tao_p[0][i+1] = tao_func(y, start_mut, mat[0][i])\n",
    "        # Weve built in a try and exept function such that the function returns results that\n",
    "        # are more akin to a bad case scenario, since most of the morality rates are upscaled\n",
    "        # if negative\n",
    "        except ValueError:\n",
    "             tao_p[0][i+1] = tao_func(y, start_mut, np.amax(mat[0][i]))\n",
    "        \n",
    "    latents  = np.zeros((2, samples - burnin), dtype= 'object')\n",
    "    latents[0], latents[1] = mat[0][burnin:], mat[1][burnin:]\n",
    "    \n",
    "    return latents\n"
   ]
  },
  {
   "cell_type": "markdown",
   "metadata": {},
   "source": [
    "### Mortality Rate\n",
    "\n",
    "**Task:** Compute the posterior mean and 95% credible interval of the marginal distribution $p(\\rho \\mid Y_{ct}, V_{ct})$ for the mortality rate $\\rho$ using the Gibbs sampler. Draw $100\\,000$ samples to do so."
   ]
  },
  {
   "cell_type": "code",
   "execution_count": 10,
   "metadata": {
    "pycharm": {
     "is_executing": true
    },
    "scrolled": true
   },
   "outputs": [
    {
     "data": {
      "text/plain": [
       "array([[<matplotlib.axes._subplots.AxesSubplot object at 0x000001E3C103A888>]],\n",
       "      dtype=object)"
      ]
     },
     "execution_count": 10,
     "metadata": {},
     "output_type": "execute_result"
    },
    {
     "data": {
      "image/png": "[encoded data removed]",
      "text/plain": [
       "<Figure size 432x288 with 1 Axes>"
      ]
     },
     "metadata": {
      "needs_background": "light"
     },
     "output_type": "display_data"
    }
   ],
   "source": [
    "y = infections_permil.sum(axis = 0)\n",
    "v = deaths_permil.sum(axis = 0)\n",
    "# Sampling\n",
    "np.random.seed(1)\n",
    "\n",
    "# Posterior mean of the mortality rate\n",
    "latents = gibbs(y, v, 50, 100000)\n",
    "\n",
    "# Credible interval\n",
    "mortality = pd.DataFrame(latents[1], dtype = 'float64')\n",
    "mortality.hist(bins =20)"
   ]
  },
  {
   "cell_type": "code",
   "execution_count": 15,
   "metadata": {
    "pycharm": {
     "is_executing": true,
     "name": "#%%\n"
    }
   },
   "outputs": [
    {
     "name": "stdout",
     "output_type": "stream",
     "text": [
      "The mean mortality is 0    0.007189\n",
      "dtype: float64 The Standard deviation is 0    0.002539\n",
      "dtype: float64\n"
     ]
    }
   ],
   "source": [
    "mort_std = mortality.std()\n",
    "mean_mort = mortality.mean()\n",
    "print('The mean mortality is', mean_mort, 'The Standard deviation is', mort_std)"
   ]
  },
  {
   "cell_type": "markdown",
   "metadata": {},
   "source": [
    "**Task:** Create scatterplots between the testing rate and mortality early on in time and towards the present for China, Germany and Italy. What do you observe? Do your observations match your expectation?\n"
   ]
  },
  {
   "cell_type": "code",
   "execution_count": 16,
   "metadata": {
    "pycharm": {
     "is_executing": true,
     "name": "#%%\n"
    }
   },
   "outputs": [],
   "source": [
    "%matplotlib inline\n",
    "import matplotlib.pyplot as plt\n",
    "China = gibbs(infections_df.iloc[0,:].T, deaths_df.iloc[0,:].T)\n",
    "Italy = gibbs(infections_df.iloc[3,:].T, deaths_df.iloc[3,:].T)\n",
    "France = gibbs(infections_df.iloc[1,:].T, deaths_df.iloc[1,:].T)\n",
    "# Todo: Does not work for Germany as beta is smaller than 0 \n",
    "Germany = gibbs(y= infections_permil[2].T, v = deaths_permil[2].T)  \n",
    "# Plot of testing rate versus mortality"
   ]
  },
  {
   "cell_type": "code",
   "execution_count": 13,
   "metadata": {
    "pycharm": {
     "is_executing": true,
     "name": "#%% \n"
    }
   },
   "outputs": [
    {
     "data": {
      "text/plain": [
       "[<matplotlib.lines.Line2D at 0x1e3b6bf1708>]"
      ]
     },
     "execution_count": 13,
     "metadata": {},
     "output_type": "execute_result"
    },
    {
     "data": {
      "image/png": "[encoded data removed]",
      "text/plain": [
       "<Figure size 432x288 with 8 Axes>"
      ]
     },
     "metadata": {
      "needs_background": "light"
     },
     "output_type": "display_data"
    }
   ],
   "source": [
    "plt.subplot(4,2,1)\n",
    "plt.plot(China[1])\n",
    "plt.subplot(4,2,2)\n",
    "plt.plot(China[0].mean())\n",
    "plt.subplot(4,2,3)\n",
    "plt.plot(Italy[1])\n",
    "plt.subplot(4,2,4)\n",
    "plt.plot(Italy[0].mean())\n",
    "plt.subplot(4,2,5)\n",
    "plt.plot(France[1])\n",
    "plt.subplot(4,2,6)\n",
    "plt.plot(France[0].mean())\n",
    "plt.subplot(4,2,7)\n",
    "plt.plot(Germany[1])\n",
    "plt.subplot(4,2,8)\n",
    "plt.plot(Germany[0].mean())"
   ]
  },
  {
   "cell_type": "markdown",
   "metadata": {},
   "source": [
    "**Task:** Visualize the estimated mortality rate over time with its associated uncertainty based on the computed distribution. What do you observe? How does your estimate compare to the case fatality rate (CFR)? Are there differences and if yes why?\n"
   ]
  },
  {
   "cell_type": "code",
   "execution_count": 14,
   "metadata": {
    "pycharm": {
     "is_executing": true
    }
   },
   "outputs": [
    {
     "data": {
      "text/plain": [
       "<matplotlib.collections.PolyCollection at 0x1e3c1305e88>"
      ]
     },
     "execution_count": 14,
     "metadata": {},
     "output_type": "execute_result"
    },
    {
     "data": {
      "image/png": "[encoded data removed]",
      "text/plain": [
       "<Figure size 691.2x518.4 with 1 Axes>"
      ]
     },
     "metadata": {
      "needs_background": "light"
     },
     "output_type": "display_data"
    }
   ],
   "source": [
    "# Setup\n",
    "days = np.arange(np.shape(infections_permil)[1]) + day0\n",
    "# Todo: plottings\n",
    "# Plot\n",
    "fig1 = plt.figure(figsize =(9.6,7.2))\n",
    "plt.plot(mortality)\n",
    "plt.fill_between(mortality[0], y1 = mean_mort - mort_std,\n",
    "                 y2 = mean_mort + mort_std, color = 'red', alpha = 0.5)"
   ]
  },
  {
   "cell_type": "markdown",
   "metadata": {},
   "source": [
    "## Model Evaluation and Improvement\n",
    "\n",
    "**Task:** What simplifying assumptions are you making in your model, which might be violated in reality?\n",
    "- Excluding in interaction with the mortality rate and other confounding factors that could increase mortality besides corona, such other prerecorded illnesses.\n",
    "- Not accounting for seasonal trends in time, where the rate of infection was heavily skewed \n",
    "- Mortality is normally distirbuted, whereas the mortality of COVID19 is not normally distributed\n",
    "- Constant prior influence $M_\\tau = 1$, $M_\\rho = 1$\n",
    "- The testing rate might well not be constant over time, as countries have shown to reinforce efforts of tackling the ongoing outbreak over the course of time\n",
    "\n",
    "**Task:** What can you say about the sensitivity of the model with regard to the testing rate $\\tau$ and other parameter / prior choices?\n",
    "- The model is very sensitive to the levels of registered infected but slowly increases\n",
    "\n",
    "**Task:** How would you improve theSmodel? Describe a more realistic probabilistic model of COVID-19 mortality based on your findings above.\n",
    "- A realistic COVID 19 model would include seasonal trends, a stochastic ordering of effects (SVAR model) where we model agents behaviour including policy options, such as the lockdown.\n",
    "- We could run a Graph model where the edges could be translated as connections between registered corona cases in suburbs and run the testing rate and mortality rate more on a local level\n",
    "- The outbreak of Covid19 could be modelled via a Cauchy process"
   ]
  },
  {
   "cell_type": "markdown",
   "metadata": {},
   "source": [
    "**Image Sources**:\n",
    "- Jiumeng Sun, Wanting He, Lifang Wang, et al. COVID-19: epidemiology, evolution, and cross-disciplinary perspectives. _Trends in Molecular Medicine_.\n",
    "\n",
    "**References**:\n",
    "-"
   ]
  }
 ],
 "metadata": {
  "kernelspec": {
   "display_name": "Python 3",
   "language": "python",
   "name": "python3"
  },
  "language_info": {
   "codemirror_mode": {
    "name": "ipython",
    "version": 3
   },
   "file_extension": ".py",
   "mimetype": "text/x-python",
   "name": "python",
   "nbconvert_exporter": "python",
   "pygments_lexer": "ipython3",
   "version": "3.7.6"
  }
 },
 "nbformat": 4,
 "nbformat_minor": 4
}
